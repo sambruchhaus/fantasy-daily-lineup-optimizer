{
 "cells": [
  {
   "cell_type": "markdown",
   "metadata": {},
   "source": [
    "# Daily Draft Optimizer\n",
    "\n",
    "***Author: Sam Bruchhaus***\n",
    "\n",
    "***Last Day Updated: November 12, 2021***\n",
    "\n",
    "In a fantasy basketball league with weekly head-to-head points scoring, daily lineup locks, and a games played limit,\n",
    "the primary decision that must be made by managers is how to allocate players to games.\n",
    "\n",
    "The problem is similar to an optimization problem with binary decision variables where the only constraint\n",
    "is the amount of decision variables that can be chosen.\n",
    "\n",
    "To solve this problem, a model can be used to project the players' performance in each game. The projections can be\n",
    "used as the coefficients to the decision variables.\n",
    "\n",
    "[LineupExperts](https://www.lineupexperts.com/) is a free service dedicated to fantasy projection models. It provides\n",
    "tools to optimize lineups, analyze matchups, and find free agents. Best of all, LineupExperts allows those who register\n",
    "to import their league settings, which leads to customized projections. This script uses LineupExperts'\n",
    "projections as the coefficients to the optimization problem.\n",
    "\n",
    "The optimization problem is fairly simple, and it can be solved by simply sorting the daily projections for the week,\n",
    "and taking the top scores for the amount of games left.\n",
    "\n",
    "To use the tool to optimize a fantasy basketball score, run the script (jupyter notebook is recommended). The first\n",
    "table created shows all players that should be played during the week in order of score. The second table shows\n",
    "which players should be played today."
   ]
  },
  {
   "cell_type": "markdown",
   "metadata": {},
   "source": [
    "## Necessary Packages\n",
    "\n",
    "The user needs the following packages:\n",
    "\n",
    "* [Datetime](https://docs.python.org/3/library/datetime.html) for manipulating dates and times.\n",
    "* [Pandas](https://pandas.pydata.org/) for data analysis and manipulation.\n",
    "* [Time](https://docs.python.org/3/library/time.html) for time access and conversions.\n",
    "* [Selenium](https://www.selenium.dev/) for browser automation.\n",
    "* [Beautiful Soup](https://www.crummy.com/software/BeautifulSoup/bs4/doc/) for pulling data from HTML files.\n",
    "* [Dateutil](https://dateutil.readthedocs.io/en/stable/) for extensions to the Datetime package.\n",
    "* [IPython.core.display](https://ipython.org/ipython-doc/2/api/generated/IPython.core.display.html) for displaying dataframe objects.\n",
    "\n",
    "All packages are available via [The Python Package Index](https://pypi.org/) or [Anaconda](https://www.anaconda.com/)."
   ]
  },
  {
   "cell_type": "code",
   "execution_count": 1,
   "metadata": {
    "jupyter": {
     "outputs_hidden": false
    },
    "pycharm": {
     "name": "#%%\n"
    }
   },
   "outputs": [],
   "source": [
    "from datetime import date, timedelta\n",
    "import pandas as pd\n",
    "import time\n",
    "from selenium import webdriver\n",
    "from bs4 import BeautifulSoup\n",
    "from dateutil import parser\n",
    "from IPython.core.display import display"
   ]
  },
  {
   "cell_type": "markdown",
   "metadata": {},
   "source": [
    "## Define Inputs\n",
    "\n",
    "A few inputs must be provided by the user:\n",
    "\n",
    "* The PATH to your [ChromeDriver](https://chromedriver.chromium.org/downloads),\n",
    "* The Email and Password associated with a LineupExperts account,\n",
    "* The name of the league as shown on LineupExperts' [Your Leagues](https://www.lineupexperts.com/account_synced_leagues.php) page\n",
    "(must be signed in to view),\n",
    "* The amount of games remaining in the matchup. For [ESPN](https://www.espn.com/fantasy/basketball/)\n",
    "leagues, the amount of games remaining can be found at the bottom of the matchup tab on the [mobile app](https://apps.apple.com/us/app/espn-fantasy-sports-more/id555376968)."
   ]
  },
  {
   "cell_type": "code",
   "execution_count": 2,
   "metadata": {
    "pycharm": {
     "name": "#%%\n"
    }
   },
   "outputs": [],
   "source": [
    "# file path for chromedriver\n",
    "path_to_chromedriver = 'ENTER PATH TO CHROMEDRIVER'\n",
    "\n",
    "# define email and password for lineupexperts.com\n",
    "email = r'ENTER EMAIL'\n",
    "password = r'ENTER PASSWORD'\n",
    "\n",
    "# define the name of your league\n",
    "league_name = 'ENTER LEAGUE NAME'\n",
    "\n",
    "# define the amount of games left in the week\n",
    "games_remaining = 'ENTER GAMES REMAINING'"
   ]
  },
  {
   "cell_type": "markdown",
   "metadata": {},
   "source": [
    "## Retrieve Days Left in the Week\n",
    "\n",
    "Lineup Experts' lineup optimizer provides projections for each player's scores for the total week, next week, and each\n",
    "individual day. Because a daily league locks each day, the data obtained is for each individual day left in\n",
    "the week."
   ]
  },
  {
   "cell_type": "code",
   "execution_count": 3,
   "metadata": {
    "pycharm": {
     "name": "#%%\n"
    }
   },
   "outputs": [],
   "source": [
    "# check if it is Sunday\n",
    "if date.today().strftime('%A') == 'Sunday':\n",
    "    date_list=['Today']\n",
    "\n",
    "else:\n",
    "\n",
    "    # initialize list with today and tomorrow\n",
    "    date_list = ['Today', 'Tomorrow']\n",
    "\n",
    "    # initialize iterator as 2, meaning the day after tomorrow\n",
    "    i = 2\n",
    "\n",
    "    # loop until getting to the end of the match-up (sunday)\n",
    "    while 'Sunday' not in date_list:\n",
    "\n",
    "        # if saturday, break\n",
    "        if date.today().strftime('%A') == 'Saturday':\n",
    "            break\n",
    "\n",
    "        # add day to list\n",
    "        date_list.append((date.today() + timedelta(i)).strftime('%A'))\n",
    "\n",
    "        # increase iterator\n",
    "        i+=1"
   ]
  },
  {
   "cell_type": "markdown",
   "metadata": {},
   "source": [
    "## Use Selenium to Navigate to the Lineup Optimizer\n",
    "\n",
    "Selenium allows for the navigation of the login, leagues, and tools pages."
   ]
  },
  {
   "cell_type": "code",
   "execution_count": 4,
   "metadata": {
    "pycharm": {
     "name": "#%%\n"
    }
   },
   "outputs": [],
   "source": [
    "# set Selenium Options\n",
    "options = webdriver.ChromeOptions()\n",
    "options.headless = True\n",
    "driver=webdriver.Chrome(options=options,\n",
    "                        executable_path=path_to_chromedriver)\n",
    "\n",
    "# login\n",
    "driver.get('https://www.lineupexperts.com/Log-In')\n",
    "email_field = driver.find_element_by_id('Email')\n",
    "password_field = driver.find_element_by_id('Password')\n",
    "email_field.send_keys(email)\n",
    "password_field.send_keys(password)\n",
    "driver.find_element_by_id('LUEFormSubmitButton').click()\n",
    "\n",
    "# go to your leagues page\n",
    "driver.find_element_by_link_text('View Your Leagues').click()\n",
    "\n",
    "# go to league page\n",
    "time.sleep(5)\n",
    "driver.find_element_by_xpath('.//span/a/b[normalize-space()=\"' + league_name + '\"]').click()\n",
    "\n",
    "# go to lineup optimizer\n",
    "time.sleep(5)\n",
    "driver.find_element_by_xpath('//button[normalize-space()=\"Optimize Your Lineup\"]').click()\n",
    "\n",
    "link_list= driver.current_url.split('=')"
   ]
  },
  {
   "cell_type": "markdown",
   "metadata": {},
   "source": [
    "## Retrieve and Clean Projections for the Rest of the Week\n",
    "\n",
    "The following code scrapes the data from the HTML for each day, then cleans the data and saves it into a dataframe."
   ]
  },
  {
   "cell_type": "code",
   "execution_count": 5,
   "metadata": {
    "pycharm": {
     "name": "#%%\n"
    }
   },
   "outputs": [],
   "source": [
    "# define empty dataframe for concatenation\n",
    "proj_dataframe = pd.DataFrame()\n",
    "\n",
    "# build dataframe of projections from each days projections\n",
    "for day in date_list:\n",
    "\n",
    "    # define url\n",
    "    url = link_list[0] + '=' + link_list[1] + '=' + link_list[2] + '=' + link_list[3] + '=' + day\n",
    "\n",
    "    # navigate to the Lineup Optimizer and Scrape the Data\n",
    "    response = driver.get(url)\n",
    "\n",
    "    # turn into Soup object\n",
    "    soup = BeautifulSoup(driver.page_source, 'html.parser')\n",
    "\n",
    "    # select proper table\n",
    "    table = soup.find_all('table')[1]\n",
    "\n",
    "    # find rows\n",
    "    rows = table.find_all('tr')\n",
    "\n",
    "    # pull out data points\n",
    "    row_list = []\n",
    "    for tr in rows:\n",
    "        td = tr.find_all('td')\n",
    "        row = [tr.text.strip() for tr in td if tr.text.strip()]\n",
    "        if row:\n",
    "            row_list.append(row)\n",
    "\n",
    "    # read into DataFrame and select relevant columns\n",
    "    dataframe = pd.DataFrame(row_list)[[0, 1, 3, 4]]\n",
    "\n",
    "    # rename columns\n",
    "    dataframe.columns = ['Position', 'Name', 'GameInfo', 'Projection']\n",
    "\n",
    "    # remove non-player rows\n",
    "    dataframe = dataframe[dataframe.Position.isin(['G', 'PG', 'SG', 'SG/SF', 'SF',\n",
    "                                                   'F', 'PF', 'PF/C','C',\n",
    "                                                   'Utility', 'Bench'])]\n",
    "\n",
    "    # change Projection Column to a Numeric Datatype\n",
    "    dataframe['Projection'] = pd.to_numeric(dataframe.Projection)\n",
    "\n",
    "    # filter out guys not playing\n",
    "    dataframe = dataframe[dataframe.GameInfo != '-']\n",
    "\n",
    "    # fix name\n",
    "    dataframe['Name'] = dataframe['Name'].str.split('\\n').str[0]\n",
    "\n",
    "    # split GameInfo into Proper Columns and Drop\n",
    "    temp_game_info_dataframe = dataframe.GameInfo.str.split(' ', expand=True)\n",
    "    dataframe['Date'] = pd.to_datetime((temp_game_info_dataframe[0]+\n",
    "                                        temp_game_info_dataframe[1]).apply(parser.parse))\n",
    "    dataframe['Opponent'] = temp_game_info_dataframe[3]\n",
    "    dataframe = dataframe.drop(columns='GameInfo')\n",
    "\n",
    "    # append to projections proj_dataframe\n",
    "    proj_dataframe = proj_dataframe.append(dataframe).reset_index(drop=True)\n",
    "\n",
    "# close driver\n",
    "driver.quit()"
   ]
  },
  {
   "cell_type": "markdown",
   "metadata": {},
   "source": [
    "## Retrieve the Players that Should Be Active the Rest of the Week\n",
    "\n",
    "The resulting table shows the top players for the amount of games left. This table can be used to plan out future\n",
    "days' lineups. Note that when run late at night, these values could be wrong due to time differences in LineupExperts'\n",
    "servers."
   ]
  },
  {
   "cell_type": "code",
   "execution_count": 6,
   "metadata": {
    "pycharm": {
     "name": "#%%\n"
    }
   },
   "outputs": [
    {
     "data": {
      "text/html": [
       "<div>\n",
       "<style scoped>\n",
       "    .dataframe tbody tr th:only-of-type {\n",
       "        vertical-align: middle;\n",
       "    }\n",
       "\n",
       "    .dataframe tbody tr th {\n",
       "        vertical-align: top;\n",
       "    }\n",
       "\n",
       "    .dataframe thead th {\n",
       "        text-align: right;\n",
       "    }\n",
       "</style>\n",
       "<table border=\"1\" class=\"dataframe\">\n",
       "  <thead>\n",
       "    <tr style=\"text-align: right;\">\n",
       "      <th></th>\n",
       "      <th>Position</th>\n",
       "      <th>Name</th>\n",
       "      <th>Projection</th>\n",
       "      <th>Date</th>\n",
       "      <th>Opponent</th>\n",
       "    </tr>\n",
       "  </thead>\n",
       "  <tbody>\n",
       "    <tr>\n",
       "      <th>0</th>\n",
       "      <td>PF/C</td>\n",
       "      <td>Giannis Antetokounmpo</td>\n",
       "      <td>25.2</td>\n",
       "      <td>2021-11-14</td>\n",
       "      <td>ATL</td>\n",
       "    </tr>\n",
       "    <tr>\n",
       "      <th>1</th>\n",
       "      <td>PG</td>\n",
       "      <td>James Harden</td>\n",
       "      <td>23.1</td>\n",
       "      <td>2021-11-12</td>\n",
       "      <td>NO</td>\n",
       "    </tr>\n",
       "    <tr>\n",
       "      <th>2</th>\n",
       "      <td>PG</td>\n",
       "      <td>James Harden</td>\n",
       "      <td>21.4</td>\n",
       "      <td>2021-11-14</td>\n",
       "      <td>OKC</td>\n",
       "    </tr>\n",
       "    <tr>\n",
       "      <th>3</th>\n",
       "      <td>SG/SF</td>\n",
       "      <td>Brandon Ingram</td>\n",
       "      <td>20.2</td>\n",
       "      <td>2021-11-13</td>\n",
       "      <td>MEM</td>\n",
       "    </tr>\n",
       "    <tr>\n",
       "      <th>4</th>\n",
       "      <td>PF/C</td>\n",
       "      <td>Jonas Valanciunas</td>\n",
       "      <td>16.8</td>\n",
       "      <td>2021-11-13</td>\n",
       "      <td>MEM</td>\n",
       "    </tr>\n",
       "    <tr>\n",
       "      <th>5</th>\n",
       "      <td>SG/SF</td>\n",
       "      <td>Gordon Hayward</td>\n",
       "      <td>13.8</td>\n",
       "      <td>2021-11-12</td>\n",
       "      <td>NY</td>\n",
       "    </tr>\n",
       "    <tr>\n",
       "      <th>6</th>\n",
       "      <td>PF/C</td>\n",
       "      <td>Jonas Valanciunas</td>\n",
       "      <td>13.8</td>\n",
       "      <td>2021-11-12</td>\n",
       "      <td>BKN</td>\n",
       "    </tr>\n",
       "    <tr>\n",
       "      <th>7</th>\n",
       "      <td>SG/SF</td>\n",
       "      <td>Terry Rozier</td>\n",
       "      <td>13.4</td>\n",
       "      <td>2021-11-12</td>\n",
       "      <td>NY</td>\n",
       "    </tr>\n",
       "    <tr>\n",
       "      <th>8</th>\n",
       "      <td>Utility</td>\n",
       "      <td>Reggie Jackson</td>\n",
       "      <td>12.3</td>\n",
       "      <td>2021-11-13</td>\n",
       "      <td>MIN</td>\n",
       "    </tr>\n",
       "    <tr>\n",
       "      <th>9</th>\n",
       "      <td>SG/SF</td>\n",
       "      <td>Gordon Hayward</td>\n",
       "      <td>12.3</td>\n",
       "      <td>2021-11-14</td>\n",
       "      <td>GS</td>\n",
       "    </tr>\n",
       "    <tr>\n",
       "      <th>10</th>\n",
       "      <td>PG</td>\n",
       "      <td>Kyle Lowry</td>\n",
       "      <td>12.0</td>\n",
       "      <td>2021-11-13</td>\n",
       "      <td>UTAH</td>\n",
       "    </tr>\n",
       "    <tr>\n",
       "      <th>11</th>\n",
       "      <td>SG/SF</td>\n",
       "      <td>Terry Rozier</td>\n",
       "      <td>12.0</td>\n",
       "      <td>2021-11-14</td>\n",
       "      <td>GS</td>\n",
       "    </tr>\n",
       "  </tbody>\n",
       "</table>\n",
       "</div>"
      ],
      "text/plain": [
       "   Position                   Name  Projection       Date Opponent\n",
       "0      PF/C  Giannis Antetokounmpo        25.2 2021-11-14      ATL\n",
       "1        PG           James Harden        23.1 2021-11-12       NO\n",
       "2        PG           James Harden        21.4 2021-11-14      OKC\n",
       "3     SG/SF         Brandon Ingram        20.2 2021-11-13      MEM\n",
       "4      PF/C      Jonas Valanciunas        16.8 2021-11-13      MEM\n",
       "5     SG/SF         Gordon Hayward        13.8 2021-11-12       NY\n",
       "6      PF/C      Jonas Valanciunas        13.8 2021-11-12      BKN\n",
       "7     SG/SF           Terry Rozier        13.4 2021-11-12       NY\n",
       "8   Utility         Reggie Jackson        12.3 2021-11-13      MIN\n",
       "9     SG/SF         Gordon Hayward        12.3 2021-11-14       GS\n",
       "10       PG             Kyle Lowry        12.0 2021-11-13     UTAH\n",
       "11    SG/SF           Terry Rozier        12.0 2021-11-14       GS"
      ]
     },
     "execution_count": 6,
     "metadata": {},
     "output_type": "execute_result"
    }
   ],
   "source": [
    "# sort the dataframe by projections\n",
    "top_proj_dataframe = proj_dataframe.sort_values(by=['Projection'],\n",
    "                                                ascending=False).reset_index(drop=True)\n",
    "\n",
    "# retrieve the highest projected scores for the rest of the week\n",
    "top_proj_dataframe = top_proj_dataframe.iloc[:games_remaining]\n",
    "\n",
    "# present the players that should be played the rest of the week\n",
    "top_proj_dataframe"
   ]
  },
  {
   "cell_type": "markdown",
   "metadata": {},
   "source": [
    "## Retrieve Players that Should Be Active Today\n",
    "\n",
    "The resulting table shows the players that should be active today. Note that when run late at night,\n",
    "these values could be wrong due to time differences in LineupExperts' servers.\n"
   ]
  },
  {
   "cell_type": "code",
   "execution_count": 7,
   "metadata": {
    "pycharm": {
     "name": "#%%\n"
    }
   },
   "outputs": [
    {
     "data": {
      "text/html": [
       "<div>\n",
       "<style scoped>\n",
       "    .dataframe tbody tr th:only-of-type {\n",
       "        vertical-align: middle;\n",
       "    }\n",
       "\n",
       "    .dataframe tbody tr th {\n",
       "        vertical-align: top;\n",
       "    }\n",
       "\n",
       "    .dataframe thead th {\n",
       "        text-align: right;\n",
       "    }\n",
       "</style>\n",
       "<table border=\"1\" class=\"dataframe\">\n",
       "  <thead>\n",
       "    <tr style=\"text-align: right;\">\n",
       "      <th></th>\n",
       "      <th>Position</th>\n",
       "      <th>Name</th>\n",
       "      <th>Projection</th>\n",
       "      <th>Date</th>\n",
       "      <th>Opponent</th>\n",
       "    </tr>\n",
       "  </thead>\n",
       "  <tbody>\n",
       "    <tr>\n",
       "      <th>1</th>\n",
       "      <td>PG</td>\n",
       "      <td>James Harden</td>\n",
       "      <td>23.1</td>\n",
       "      <td>2021-11-12</td>\n",
       "      <td>NO</td>\n",
       "    </tr>\n",
       "    <tr>\n",
       "      <th>5</th>\n",
       "      <td>SG/SF</td>\n",
       "      <td>Gordon Hayward</td>\n",
       "      <td>13.8</td>\n",
       "      <td>2021-11-12</td>\n",
       "      <td>NY</td>\n",
       "    </tr>\n",
       "    <tr>\n",
       "      <th>6</th>\n",
       "      <td>PF/C</td>\n",
       "      <td>Jonas Valanciunas</td>\n",
       "      <td>13.8</td>\n",
       "      <td>2021-11-12</td>\n",
       "      <td>BKN</td>\n",
       "    </tr>\n",
       "    <tr>\n",
       "      <th>7</th>\n",
       "      <td>SG/SF</td>\n",
       "      <td>Terry Rozier</td>\n",
       "      <td>13.4</td>\n",
       "      <td>2021-11-12</td>\n",
       "      <td>NY</td>\n",
       "    </tr>\n",
       "  </tbody>\n",
       "</table>\n",
       "</div>"
      ],
      "text/plain": [
       "  Position               Name  Projection       Date Opponent\n",
       "1       PG       James Harden        23.1 2021-11-12       NO\n",
       "5    SG/SF     Gordon Hayward        13.8 2021-11-12       NY\n",
       "6     PF/C  Jonas Valanciunas        13.8 2021-11-12      BKN\n",
       "7    SG/SF       Terry Rozier        13.4 2021-11-12       NY"
      ]
     },
     "metadata": {},
     "output_type": "display_data"
    }
   ],
   "source": [
    "# select rows that are today\n",
    "active_today_dataframe = top_proj_dataframe[top_proj_dataframe[\"Date\"] == pd.to_datetime(date.today())]\n",
    "\n",
    "# present the players that should be active today\n",
    "if active_today_dataframe.empty:\n",
    "    print(\"Do not play anyone today!\")\n",
    "else:\n",
    "    display(active_today_dataframe)"
   ]
  },
  {
   "cell_type": "markdown",
   "metadata": {},
   "source": [
    "## Closing Notes\n",
    "\n",
    "The program will allow you to optimize your daily lineups. However, the program does not enforce constraints by\n",
    "position which may exist in some leagues.\n"
   ]
  }
 ],
 "metadata": {
  "kernelspec": {
   "display_name": "Python 3 (ipykernel)",
   "language": "python",
   "name": "python3"
  },
  "language_info": {
   "codemirror_mode": {
    "name": "ipython",
    "version": 3
   },
   "file_extension": ".py",
   "mimetype": "text/x-python",
   "name": "python",
   "nbconvert_exporter": "python",
   "pygments_lexer": "ipython3",
   "version": "3.9.7"
  }
 },
 "nbformat": 4,
 "nbformat_minor": 4
}